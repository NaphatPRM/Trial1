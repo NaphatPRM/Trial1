{
    "cells": [
        {
            "cell_type": "markdown",
            "metadata": {},
            "source": "### Bootleg data"
        },
        {
            "cell_type": "code",
            "execution_count": 1,
            "metadata": {},
            "outputs": [
                {
                    "data": {
                        "text/html": "<div>\n<style scoped>\n    .dataframe tbody tr th:only-of-type {\n        vertical-align: middle;\n    }\n\n    .dataframe tbody tr th {\n        vertical-align: top;\n    }\n\n    .dataframe thead th {\n        text-align: right;\n    }\n</style>\n<table border=\"1\" class=\"dataframe\">\n  <thead>\n    <tr style=\"text-align: right;\">\n      <th></th>\n      <th>0.950300</th>\n      <th>2</th>\n      <th>4.43400</th>\n      <th>3.787121</th>\n    </tr>\n  </thead>\n  <tbody>\n    <tr>\n      <th>0</th>\n      <td>0.613586</td>\n      <td>75</td>\n      <td>149.1170</td>\n      <td>4.974391</td>\n    </tr>\n    <tr>\n      <th>1</th>\n      <td>0.837237</td>\n      <td>53</td>\n      <td>501.2317</td>\n      <td>5.193843</td>\n    </tr>\n    <tr>\n      <th>2</th>\n      <td>0.902340</td>\n      <td>58</td>\n      <td>546.2543</td>\n      <td>5.495572</td>\n    </tr>\n    <tr>\n      <th>3</th>\n      <td>0.906192</td>\n      <td>96</td>\n      <td>424.4232</td>\n      <td>5.856011</td>\n    </tr>\n    <tr>\n      <th>4</th>\n      <td>0.791164</td>\n      <td>8</td>\n      <td>200.5667</td>\n      <td>3.511362</td>\n    </tr>\n  </tbody>\n</table>\n</div>",
                        "text/plain": "   0.950300   2   4.43400  3.787121\n0  0.613586  75  149.1170  4.974391\n1  0.837237  53  501.2317  5.193843\n2  0.902340  58  546.2543  5.495572\n3  0.906192  96  424.4232  5.856011\n4  0.791164   8  200.5667  3.511362"
                    },
                    "execution_count": 1,
                    "metadata": {},
                    "output_type": "execute_result"
                }
            ],
            "source": "# The code was removed by Watson Studio for sharing."
        },
        {
            "cell_type": "code",
            "execution_count": null,
            "metadata": {},
            "outputs": [],
            "source": ""
        }
    ],
    "metadata": {
        "kernelspec": {
            "display_name": "Python 3.6",
            "language": "python",
            "name": "python3"
        },
        "language_info": {
            "codemirror_mode": {
                "name": "ipython",
                "version": 3
            },
            "file_extension": ".py",
            "mimetype": "text/x-python",
            "name": "python",
            "nbconvert_exporter": "python",
            "pygments_lexer": "ipython3",
            "version": "3.6.9"
        }
    },
    "nbformat": 4,
    "nbformat_minor": 1
}